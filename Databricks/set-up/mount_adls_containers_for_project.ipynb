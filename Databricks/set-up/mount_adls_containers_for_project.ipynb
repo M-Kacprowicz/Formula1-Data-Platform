{
 "cells": [
  {
   "cell_type": "code",
   "execution_count": 0,
   "metadata": {
    "application/vnd.databricks.v1+cell": {
     "cellMetadata": {
      "byteLimit": 2048000,
      "rowLimit": 10000
     },
     "inputWidgets": {},
     "nuid": "f206999c-9c9e-48b8-8a0f-dea157331d30",
     "showTitle": false,
     "tableResultSettingsMap": {},
     "title": ""
    }
   },
   "outputs": [],
   "source": [
    "# service principal credentials\n",
    "client_id = dbutils.secrets.get(\"formula1-scope\", \"formula1-data-platform-client-id\")\n",
    "tenant_id = dbutils.secrets.get(\"formula1-scope\", \"formula1-data-platform-tenant-id\")\n",
    "client_secret = dbutils.secrets.get(\"formula1-scope\", \"formula1-data-platform-client-secret\")"
   ]
  },
  {
   "cell_type": "code",
   "execution_count": 0,
   "metadata": {
    "application/vnd.databricks.v1+cell": {
     "cellMetadata": {
      "byteLimit": 2048000,
      "rowLimit": 10000
     },
     "inputWidgets": {},
     "nuid": "da31b6f6-ffdb-4547-bad9-bd1a68a938aa",
     "showTitle": false,
     "tableResultSettingsMap": {},
     "title": ""
    }
   },
   "outputs": [],
   "source": [
    "# storage account variables\n",
    "storage_account_name = \"formula1dataplatformdl\"\n",
    "containers = [\"demo\", \"presentation\", \"processed\", \"raw\"]"
   ]
  },
  {
   "cell_type": "code",
   "execution_count": 0,
   "metadata": {
    "application/vnd.databricks.v1+cell": {
     "cellMetadata": {
      "byteLimit": 2048000,
      "rowLimit": 10000
     },
     "inputWidgets": {},
     "nuid": "137c7104-931e-47fc-ac94-8911c6bb9be8",
     "showTitle": false,
     "tableResultSettingsMap": {},
     "title": ""
    }
   },
   "outputs": [],
   "source": [
    "# mount config\n",
    "configs = {\"fs.azure.account.auth.type\": \"OAuth\",\n",
    "           \"fs.azure.account.oauth.provider.type\": \"org.apache.hadoop.fs.azurebfs.oauth2.ClientCredsTokenProvider\",\n",
    "           \"fs.azure.account.oauth2.client.id\": client_id,\n",
    "           \"fs.azure.account.oauth2.client.secret\": client_secret,\n",
    "           \"fs.azure.account.oauth2.client.endpoint\": f\"https://login.microsoftonline.com/{tenant_id}/oauth2/token\"}"
   ]
  },
  {
   "cell_type": "code",
   "execution_count": 0,
   "metadata": {
    "application/vnd.databricks.v1+cell": {
     "cellMetadata": {
      "byteLimit": 2048000,
      "rowLimit": 10000
     },
     "inputWidgets": {},
     "nuid": "f7115f27-6d87-4944-a089-b8477f3feca0",
     "showTitle": false,
     "tableResultSettingsMap": {},
     "title": ""
    }
   },
   "outputs": [],
   "source": [
    "# function to mount adls\n",
    "def mount_container(storage_account: str, container: str):\n",
    "    for mount in dbutils.fs.mounts():\n",
    "        if mount.mountPoint == f\"/mnt/{storage_account}/{container}\":\n",
    "            print(f\"Container {storage_account}/{container} already mounted\")\n",
    "            return\n",
    "\n",
    "    dbutils.fs.mount(\n",
    "        source = f\"abfss://{container}@{storage_account}.dfs.core.windows.net/\",\n",
    "        mount_point = f\"/mnt/{storage_account}/{container}\",\n",
    "        extra_configs = configs\n",
    "    )\n",
    "    print(f\"Mounted {storage_account}/{container} as /mnt/{storage_account}/{container}\")"
   ]
  },
  {
   "cell_type": "code",
   "execution_count": 0,
   "metadata": {
    "application/vnd.databricks.v1+cell": {
     "cellMetadata": {
      "byteLimit": 2048000,
      "rowLimit": 10000
     },
     "inputWidgets": {},
     "nuid": "6b978503-3acd-4d9b-9b9c-62f79c17313e",
     "showTitle": false,
     "tableResultSettingsMap": {},
     "title": ""
    }
   },
   "outputs": [],
   "source": [
    "for container in containers:\n",
    "    mount_container(storage_account_name, container)\n",
    "display(dbutils.fs.mounts())"
   ]
  }
 ],
 "metadata": {
  "application/vnd.databricks.v1+notebook": {
   "computePreferences": null,
   "dashboards": [],
   "environmentMetadata": {
    "base_environment": "",
    "environment_version": "3"
   },
   "inputWidgetPreferences": null,
   "language": "python",
   "notebookMetadata": {
    "pythonIndentUnit": 4
   },
   "notebookName": "mount_adls_containers_for_project",
   "widgets": {}
  },
  "language_info": {
   "name": "python"
  }
 },
 "nbformat": 4,
 "nbformat_minor": 0
}
