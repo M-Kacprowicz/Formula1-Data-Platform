{
 "cells": [
  {
   "cell_type": "code",
   "execution_count": 0,
   "metadata": {
    "application/vnd.databricks.v1+cell": {
     "cellMetadata": {
      "byteLimit": 2048000,
      "rowLimit": 10000
     },
     "inputWidgets": {},
     "nuid": "ae79a7b1-6f14-4dd3-89c6-cb4871044c4c",
     "showTitle": false,
     "tableResultSettingsMap": {},
     "title": ""
    }
   },
   "outputs": [],
   "source": [
    "# Define schema\n",
    "# Example line of json file:\n",
    "# {\"resultId\":1,\"raceId\":18,\"driverId\":1,\"constructorId\":1,\"number\":22,\"grid\":1,\"position\":1,\"positionText\":1,\"positionOrder\":1,\"points\":10,\"laps\":58,\"time\":\"1:34:50.616\",\"milliseconds\":5690616,\"fastestLap\":39,\"rank\":2,\"fastestLapTime\":\"1:27.452\",\"fastestLapSpeed\":218.3,\"statusId\":1}\n",
    "\n",
    "from pyspark.sql.types import StructType, StructField, IntegerType, StringType, FloatType\n",
    "\n",
    "schema = StructType(fields=[StructField(\"resultId\", IntegerType(), False),\n",
    "                            StructField(\"raceId\", IntegerType(), False),\n",
    "                            StructField(\"driverId\", IntegerType(), False),\n",
    "                            StructField(\"constructorId\", IntegerType(), False),\n",
    "                            StructField(\"number\", IntegerType(), True),\n",
    "                            StructField(\"grid\", IntegerType(), False),\n",
    "                            StructField(\"position\", IntegerType(), False),\n",
    "                            StructField(\"positionText\", StringType(), False),\n",
    "                            StructField(\"positionOrder\", IntegerType(), False),\n",
    "                            StructField(\"points\", FloatType(), False),\n",
    "                            StructField(\"laps\", IntegerType(), False),\n",
    "                            StructField(\"time\", StringType(), True),\n",
    "                            StructField(\"milliseconds\", IntegerType(), True),\n",
    "                            StructField(\"fastestLap\", IntegerType(), True),\n",
    "                            StructField(\"rank\", IntegerType(), True),\n",
    "                            StructField(\"fastestLapTime\", StringType(), True),\n",
    "                            StructField(\"fastestLapSpeed\", StringType(), True),\n",
    "                            StructField(\"statusId\", IntegerType(), False),\n",
    "                            ])"
   ]
  },
  {
   "cell_type": "code",
   "execution_count": 0,
   "metadata": {
    "application/vnd.databricks.v1+cell": {
     "cellMetadata": {
      "byteLimit": 2048000,
      "rowLimit": 10000
     },
     "inputWidgets": {},
     "nuid": "f86f0241-0856-4891-88b0-6c1524ae4d30",
     "showTitle": false,
     "tableResultSettingsMap": {
      "0": {
       "dataGridStateBlob": "{\"version\":1,\"tableState\":{\"columnPinning\":{\"left\":[\"#row_number#\"],\"right\":[]},\"columnSizing\":{},\"columnVisibility\":{}},\"settings\":{\"columns\":{}},\"syncTimestamp\":1753959865490}",
       "filterBlob": null,
       "queryPlanFiltersBlob": null,
       "tableResultIndex": 0
      }
     },
     "title": ""
    }
   },
   "outputs": [],
   "source": [
    "# Read json file\n",
    "results_df = spark.read.json(\"/mnt/formula1dataplatformdl/raw/results.json\", schema = schema)\n",
    "display(results_df)"
   ]
  },
  {
   "cell_type": "code",
   "execution_count": 0,
   "metadata": {
    "application/vnd.databricks.v1+cell": {
     "cellMetadata": {
      "byteLimit": 2048000,
      "rowLimit": 10000
     },
     "inputWidgets": {},
     "nuid": "049f48ac-ce8e-45b2-b071-1246f44208d5",
     "showTitle": false,
     "tableResultSettingsMap": {
      "0": {
       "dataGridStateBlob": "{\"version\":1,\"tableState\":{\"columnPinning\":{\"left\":[\"#row_number#\"],\"right\":[]},\"columnSizing\":{},\"columnVisibility\":{}},\"settings\":{\"columns\":{}},\"syncTimestamp\":1753960194810}",
       "filterBlob": null,
       "queryPlanFiltersBlob": null,
       "tableResultIndex": 0
      }
     },
     "title": ""
    }
   },
   "outputs": [],
   "source": [
    "# Process data\n",
    "\n",
    "from pyspark.sql.functions import current_timestamp, col\n",
    "\n",
    "results_processed = results_df.withColumnRenamed(\"resultId\", \"result_id\") \\\n",
    "    .withColumnRenamed(\"raceId\", \"race_id\") \\\n",
    "    .withColumnRenamed(\"driverId\", \"driver_id\") \\\n",
    "    .withColumnRenamed(\"constructorId\", \"constructor_id\") \\\n",
    "    .withColumnRenamed(\"positionText\", \"position_text\") \\\n",
    "    .withColumnRenamed(\"positionOrder\", \"position_order\") \\\n",
    "    .withColumnRenamed(\"fastestLap\", \"fastest_lap\") \\\n",
    "    .withColumnRenamed(\"fastestLapTime\", \"fastest_lap_time\") \\\n",
    "    .withColumnRenamed(\"fastestLapSpeed\", \"fastest_lap_speed\") \\\n",
    "    .withColumn(\"ingestion_date\", current_timestamp()) \\\n",
    "    .drop(col(\"statusId\"))\n",
    "\n",
    "display(results_processed)"
   ]
  },
  {
   "cell_type": "code",
   "execution_count": 0,
   "metadata": {
    "application/vnd.databricks.v1+cell": {
     "cellMetadata": {
      "byteLimit": 2048000,
      "rowLimit": 10000
     },
     "inputWidgets": {},
     "nuid": "523d9cb4-9f0a-44a4-b922-7512dfc4ba60",
     "showTitle": false,
     "tableResultSettingsMap": {},
     "title": ""
    }
   },
   "outputs": [],
   "source": [
    "# Write df to parquet\n",
    "results_processed.write.parquet(\"/mnt/formula1dataplatformdl/processed/results\", mode = \"overwrite\", partitionBy = \"race_id\")"
   ]
  },
  {
   "cell_type": "code",
   "execution_count": 0,
   "metadata": {
    "application/vnd.databricks.v1+cell": {
     "cellMetadata": {
      "byteLimit": 2048000,
      "rowLimit": 10000
     },
     "inputWidgets": {},
     "nuid": "a5f754e8-ec2e-4ddf-a41e-5b52b73eb58a",
     "showTitle": false,
     "tableResultSettingsMap": {
      "0": {
       "dataGridStateBlob": "{\"version\":1,\"tableState\":{\"columnPinning\":{\"left\":[\"#row_number#\"],\"right\":[]},\"columnSizing\":{},\"columnVisibility\":{}},\"settings\":{\"columns\":{}},\"syncTimestamp\":1753958985640}",
       "filterBlob": null,
       "queryPlanFiltersBlob": null,
       "tableResultIndex": 0
      }
     },
     "title": ""
    }
   },
   "outputs": [],
   "source": [
    "# Check if data has been properly written\n",
    "display(spark.read.parquet(\"/mnt/formula1dataplatformdl/processed/results\"))"
   ]
  }
 ],
 "metadata": {
  "application/vnd.databricks.v1+notebook": {
   "computePreferences": null,
   "dashboards": [],
   "environmentMetadata": {
    "base_environment": "",
    "environment_version": "2"
   },
   "inputWidgetPreferences": null,
   "language": "python",
   "notebookMetadata": {
    "pythonIndentUnit": 4
   },
   "notebookName": "results",
   "widgets": {}
  },
  "language_info": {
   "name": "python"
  }
 },
 "nbformat": 4,
 "nbformat_minor": 0
}
